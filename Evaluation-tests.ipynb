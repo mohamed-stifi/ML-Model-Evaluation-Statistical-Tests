{
 "cells": [
  {
   "cell_type": "code",
   "execution_count": 5,
   "metadata": {
    "executionInfo": {
     "elapsed": 387,
     "status": "ok",
     "timestamp": 1739757477491,
     "user": {
      "displayName": "mohamed stifi",
      "userId": "01611456313962109710"
     },
     "user_tz": -60
    },
    "id": "CEcfXalzntIW"
   },
   "outputs": [],
   "source": [
    "from pathlib import Path\n",
    "from typing import Tuple\n",
    "import math\n",
    "\n",
    "import matplotlib.pyplot as plt\n",
    "import numpy as np\n",
    "import pandas as pd\n",
    "import scipy.stats as stats\n",
    "\n",
    "HERE = './src/'\n",
    "\n",
    "# Paths to the test data\n",
    "paths = {\n",
    "    \"MC\": HERE + \"MCTestData.csv\",\n",
    "    \"TMSt\": HERE + \"TMStTestData.csv\",\n",
    "    \"F\": HERE + \"FTestData.csv\",}"
   ]
  },
  {
   "cell_type": "markdown",
   "metadata": {
    "id": "fi5VusLSodkI"
   },
   "source": [
    "### **1. McNemar Test**\n",
    "Two models are trained to classify images of cats and dogs. The result is stored in MCTestData.csv with n = 500 images. The function load data MNTest() loads the data as an n × 3 numpy array, where the first column represents the ground truth. The 2nd and the 3rd columns represent the output from model 1 and 2 respectively. Implement a McNemar Test to determine whether the two models perform equally well on the dataset. In your solution, state what is H0, H1 and return χ2 for this evaluation. As this exercise will not be automatically graded, please include your answer in an attached PDF file, and upload that PDF to your\n",
    "repository."
   ]
  },
  {
   "cell_type": "code",
   "execution_count": 6,
   "metadata": {
    "executionInfo": {
     "elapsed": 332,
     "status": "ok",
     "timestamp": 1739757480597,
     "user": {
      "displayName": "mohamed stifi",
      "userId": "01611456313962109710"
     },
     "user_tz": -60
    },
    "id": "5sXqOecbnFpy"
   },
   "outputs": [],
   "source": [
    "def load_data_MNTest() -> Tuple[np.ndarray, np.ndarray, np.ndarray]:\n",
    "    \"\"\"\n",
    "    Loads data stored in McNemarTest.csv\n",
    "    :param fl: path to the csv file\n",
    "    :return: labels, prediction1, prediction2\n",
    "    \"\"\"\n",
    "    data = pd.read_csv(paths[\"MC\"], header=None).to_numpy()\n",
    "    labels = data[:, 0]\n",
    "    prediction_1 = data[:, 1]\n",
    "    prediction_2 = data[:, 2]\n",
    "    return labels, prediction_1, prediction_2"
   ]
  },
  {
   "cell_type": "code",
   "execution_count": 7,
   "metadata": {
    "executionInfo": {
     "elapsed": 382,
     "status": "ok",
     "timestamp": 1739758404823,
     "user": {
      "displayName": "mohamed stifi",
      "userId": "01611456313962109710"
     },
     "user_tz": -60
    },
    "id": "nyNG2DNGni8v"
   },
   "outputs": [],
   "source": [
    "def McNemar_test(\n",
    "    labels: np.ndarray,\n",
    "    prediction_1: np.ndarray,\n",
    "    prediction_2: np.ndarray,\n",
    ") -> float:\n",
    "    \"\"\"\n",
    "    :param labels: the ground truth labels\n",
    "    :param prediction_1: the prediction results from model 1\n",
    "    :param prediction_2:  the prediction results from model 2\n",
    "    :return: the test statistic chi2_Mc\n",
    "    \"\"\"\n",
    "    # Calculate the conditions\n",
    "    A = np.sum((labels == prediction_1) & (labels == prediction_2))\n",
    "    B = np.sum((labels == prediction_1) & (labels != prediction_2))\n",
    "    C = np.sum((labels != prediction_1) & (labels == prediction_2))\n",
    "    D = np.sum((labels != prediction_1) & (labels != prediction_2))\n",
    "\n",
    "    assert B+C>20\n",
    "\n",
    "    chi2_Mc = (abs(B-C) - 1)**2 / (B+C)\n",
    "    return chi2_Mc"
   ]
  },
  {
   "cell_type": "code",
   "execution_count": 8,
   "metadata": {
    "colab": {
     "base_uri": "https://localhost:8080/"
    },
    "executionInfo": {
     "elapsed": 13,
     "status": "ok",
     "timestamp": 1739758406565,
     "user": {
      "displayName": "mohamed stifi",
      "userId": "01611456313962109710"
     },
     "user_tz": -60
    },
    "id": "Tvmw0J_EnFma",
    "outputId": "0149029c-fba4-422f-f75b-aa074bb783af"
   },
   "outputs": [
    {
     "name": "stdout",
     "output_type": "stream",
     "text": [
      "chi2_Mc  4.613924050632911\n"
     ]
    }
   ],
   "source": [
    "# (a)\n",
    "\n",
    "labels, prediction_A, prediction_B = load_data_MNTest()\n",
    "chi2_Mc = McNemar_test(labels, prediction_A, prediction_B)\n",
    "print(\"chi2_Mc \", chi2_Mc)\n"
   ]
  },
  {
   "cell_type": "code",
   "execution_count": 9,
   "metadata": {
    "colab": {
     "base_uri": "https://localhost:8080/"
    },
    "executionInfo": {
     "elapsed": 437,
     "status": "ok",
     "timestamp": 1739758781057,
     "user": {
      "displayName": "mohamed stifi",
      "userId": "01611456313962109710"
     },
     "user_tz": -60
    },
    "id": "V4ht1jcGsfQh",
    "outputId": "2213ceb0-58ad-4d63-bc03-8db8cb11de34"
   },
   "outputs": [
    {
     "name": "stdout",
     "output_type": "stream",
     "text": [
      "chi2_d1_alpha95  3.841458820694124\n",
      "- Reject H0 at a significance level of 0.05\n"
     ]
    }
   ],
   "source": [
    "chi2_d1_alpha95 = stats.chi2.ppf(0.95, 1)\n",
    "print(\"chi2_d1_alpha95 \", chi2_d1_alpha95)\n",
    "\n",
    "\n",
    "if chi2_Mc > chi2_d1_alpha95:\n",
    "    print(\"- Reject H0 at a significance level of 0.05\")\n",
    "else:\n",
    "    print(\"- Fail to reject H0 at a significance level of 0.05\")"
   ]
  },
  {
   "cell_type": "markdown",
   "metadata": {
    "id": "6rG0oOeetE_0"
   },
   "source": [
    "### **2. Two-Matched Samples t-Test** [3 points]\n",
    "TMStTestData.csv contains error values of two algorithms on n = 419 datasets, the function load data TMStTest() loads the data as an n × 2 numpy array. Implement a `Two-Matched-Samples t-Test` to determine whether the two algorithms perform equally well on the dataset and return the test statistic t value for this evaluation."
   ]
  },
  {
   "cell_type": "code",
   "execution_count": 10,
   "metadata": {
    "executionInfo": {
     "elapsed": 368,
     "status": "ok",
     "timestamp": 1739758561652,
     "user": {
      "displayName": "mohamed stifi",
      "userId": "01611456313962109710"
     },
     "user_tz": -60
    },
    "id": "4rbQv339sM5o"
   },
   "outputs": [],
   "source": [
    "def load_data_TMStTest() -> Tuple[np.ndarray, np.ndarray]:\n",
    "    \"\"\"\n",
    "    Loads data stored in fl\n",
    "    :param fl: path to the csv file\n",
    "    :return: y1, y2\n",
    "    \"\"\"\n",
    "    data = np.loadtxt(paths[\"TMSt\"], delimiter=\",\")\n",
    "    y1 = data[:, 0]\n",
    "    y2 = data[:, 1]\n",
    "    return y1, y2"
   ]
  },
  {
   "cell_type": "code",
   "execution_count": 11,
   "metadata": {
    "executionInfo": {
     "elapsed": 535,
     "status": "ok",
     "timestamp": 1739759301090,
     "user": {
      "displayName": "mohamed stifi",
      "userId": "01611456313962109710"
     },
     "user_tz": -60
    },
    "id": "tRQEoJ3_oHMc"
   },
   "outputs": [],
   "source": [
    "def TwoMatchedSamplest_test(y1: np.ndarray, y2: np.ndarray) -> float:\n",
    "    \"\"\"\n",
    "    :param y1: runs of algorithm 1\n",
    "    :param y2: runs of algorithm 2\n",
    "    :return: the test statistic t-value\n",
    "    \"\"\"\n",
    "    d = y1 - y2\n",
    "    mean_d = np.mean(d)\n",
    "    std_d = np.std(d, ddof=1)\n",
    "    n = len(y1)\n",
    "\n",
    "    t_value = mean_d / (std_d / np.sqrt(n))\n",
    "    return t_value"
   ]
  },
  {
   "cell_type": "code",
   "execution_count": 12,
   "metadata": {
    "colab": {
     "base_uri": "https://localhost:8080/"
    },
    "executionInfo": {
     "elapsed": 917,
     "status": "ok",
     "timestamp": 1739759302380,
     "user": {
      "displayName": "mohamed stifi",
      "userId": "01611456313962109710"
     },
     "user_tz": -60
    },
    "id": "VK3hggfLsB5f",
    "outputId": "7eb9ffc2-dcb6-4478-ca80-b08cf4aa627a"
   },
   "outputs": [
    {
     "name": "stdout",
     "output_type": "stream",
     "text": [
      "t_value  -8.923519540749611\n"
     ]
    }
   ],
   "source": [
    "# (b)\n",
    "y1, y2 = load_data_TMStTest()\n",
    "t_value = TwoMatchedSamplest_test(y1, y2)\n",
    "print(\"t_value \", t_value)"
   ]
  },
  {
   "cell_type": "code",
   "execution_count": 32,
   "metadata": {
    "colab": {
     "base_uri": "https://localhost:8080/"
    },
    "executionInfo": {
     "elapsed": 412,
     "status": "ok",
     "timestamp": 1739759838578,
     "user": {
      "displayName": "mohamed stifi",
      "userId": "01611456313962109710"
     },
     "user_tz": -60
    },
    "id": "XksKy4-svL8y",
    "outputId": "77c4fd8c-d76f-46b3-d633-8bbd7c729d2d"
   },
   "outputs": [
    {
     "name": "stdout",
     "output_type": "stream",
     "text": [
      "t_value_d1_alpha95  -1.6485071494259467\n",
      "- Fail to reject H0 at a significance level of 0.05\n"
     ]
    }
   ],
   "source": [
    "t_value_d_alpha95 = stats.t.ppf(0.05, len(y1) - 1)\n",
    "print(\"t_value_d1_alpha95 \", t_value_d_alpha95)\n",
    "\n",
    "if t_value > t_value_d_alpha95:\n",
    "    print(\"- Reject H0 at a significance level of 0.05\")\n",
    "else:\n",
    "    print(\"- Fail to reject H0 at a significance level of 0.05\")"
   ]
  },
  {
   "cell_type": "markdown",
   "metadata": {
    "id": "zj3KkBYqvz6N"
   },
   "source": [
    "### **3. Friedman Test**\n",
    "FTestData.csv contains error values of k = 5 algorithms on n = 15 datasets, the function load data FTest() loads the data as an n × k numpy matrix Err, where Err_ij represents the error of the jth algorithm on the ith dataset.\n",
    "Implement a Friedman Test to determine if all algorithms are equivalent in their performance and return χ2 F for this evaluation. If this hypothesis is not rejected, you can skip the next question.\n"
   ]
  },
  {
   "cell_type": "code",
   "execution_count": 26,
   "metadata": {
    "executionInfo": {
     "elapsed": 363,
     "status": "ok",
     "timestamp": 1739759735852,
     "user": {
      "displayName": "mohamed stifi",
      "userId": "01611456313962109710"
     },
     "user_tz": -60
    },
    "id": "Z2t_uTKZsO5g"
   },
   "outputs": [],
   "source": [
    "def load_data_FTest() -> np.ndarray:\n",
    "    \"\"\"\n",
    "    Loads data stored in fl\n",
    "    :param fl: path to the csv file\n",
    "    :return: evaluations\n",
    "    \"\"\"\n",
    "    errors = np.loadtxt(paths[\"F\"], delimiter=\",\")\n",
    "    return errors"
   ]
  },
  {
   "cell_type": "code",
   "execution_count": 27,
   "metadata": {
    "executionInfo": {
     "elapsed": 364,
     "status": "ok",
     "timestamp": 1739759774990,
     "user": {
      "displayName": "mohamed stifi",
      "userId": "01611456313962109710"
     },
     "user_tz": -60
    },
    "id": "9k-wpacnvp8q"
   },
   "outputs": [],
   "source": [
    "def Friedman_test(errors: np.ndarray) -> Tuple[float, dict]:\n",
    "    \"\"\"\n",
    "    :param errors: the error values of different algorithms on different datasets\n",
    "    :return: chi2_F: the test statistic chi2_F value\n",
    "    :return: FData_stats: the statistical data of the Friedan test data, containing anything\n",
    "    you need to solve the `Nemenyi_test` and `box_plot` functions.\n",
    "    \"\"\"\n",
    "    R = np.empty_like(errors)\n",
    "\n",
    "    chi2_F = np.random.uniform(0, 1)\n",
    "\n",
    "    FData_stats = {\n",
    "        \"errors\": errors,\n",
    "        \"hello\": \"world\",\n",
    "    }\n",
    "    return chi2_F, FData_stats"
   ]
  },
  {
   "cell_type": "code",
   "execution_count": 29,
   "metadata": {
    "colab": {
     "base_uri": "https://localhost:8080/"
    },
    "executionInfo": {
     "elapsed": 370,
     "status": "ok",
     "timestamp": 1739759783257,
     "user": {
      "displayName": "mohamed stifi",
      "userId": "01611456313962109710"
     },
     "user_tz": -60
    },
    "id": "Aeelypibw2nd",
    "outputId": "ad7dd833-3abc-4e29-b574-92941e062b1c"
   },
   "outputs": [
    {
     "name": "stdout",
     "output_type": "stream",
     "text": [
      "chi2_F  0.681504218543089\n"
     ]
    }
   ],
   "source": [
    "# (c)\n",
    "errors = load_data_FTest()\n",
    "chi2_F, FData_stats = Friedman_test(errors)\n",
    "print(\"chi2_F \", chi2_F)"
   ]
  },
  {
   "cell_type": "code",
   "execution_count": 33,
   "metadata": {
    "colab": {
     "base_uri": "https://localhost:8080/"
    },
    "executionInfo": {
     "elapsed": 319,
     "status": "ok",
     "timestamp": 1739759857827,
     "user": {
      "displayName": "mohamed stifi",
      "userId": "01611456313962109710"
     },
     "user_tz": -60
    },
    "id": "6wl4tiamw3HX",
    "outputId": "a03cb239-f705-4ac5-9755-f6fdb8975b87"
   },
   "outputs": [
    {
     "data": {
      "text/plain": [
       "array([[0.95703175, 0.55344353, 0.1174456 , 0.4555772 , 0.72243399],\n",
       "       [0.5722354 , 0.39836789, 0.07723426, 0.25402393, 0.19170288],\n",
       "       [0.29754282, 0.1945297 , 0.16670142, 0.83948775, 0.3619303 ],\n",
       "       [0.43684854, 0.56866147, 0.23408375, 0.63966914, 0.33980737],\n",
       "       [0.85891678, 0.4245215 , 0.36306726, 0.42678245, 0.64777516],\n",
       "       [0.91495205, 0.30282603, 0.39465833, 0.2127598 , 0.49431276],\n",
       "       [0.70849721, 0.9129483 , 0.325063  , 0.26127221, 0.66955606],\n",
       "       [0.75694605, 0.63048452, 0.22031192, 0.549582  , 0.06686902],\n",
       "       [0.37903357, 0.65355935, 0.22309479, 0.23832535, 0.66860399],\n",
       "       [0.07972898, 0.99572019, 0.07926882, 0.82849802, 0.87645693],\n",
       "       [0.47281105, 0.08981156, 0.20367391, 0.40215297, 0.78326659],\n",
       "       [0.70107285, 0.11877423, 0.64167016, 0.77051231, 0.32505122],\n",
       "       [0.86730362, 0.94459225, 0.09056449, 0.74345177, 0.76815858],\n",
       "       [0.15814528, 0.41508237, 0.2329551 , 0.19198217, 0.47140751],\n",
       "       [0.9569331 , 0.87054409, 0.13567258, 0.47017096, 0.84234005]])"
      ]
     },
     "execution_count": 33,
     "metadata": {},
     "output_type": "execute_result"
    }
   ],
   "source": [
    "errors"
   ]
  },
  {
   "cell_type": "code",
   "execution_count": null,
   "metadata": {
    "id": "1NiPo-n4xK2K"
   },
   "outputs": [],
   "source": []
  }
 ],
 "metadata": {
  "colab": {
   "authorship_tag": "ABX9TyP5o43gvtXLVU7ow//Q8H1S",
   "provenance": []
  },
  "kernelspec": {
   "display_name": ".venv",
   "language": "python",
   "name": "python3"
  },
  "language_info": {
   "codemirror_mode": {
    "name": "ipython",
    "version": 3
   },
   "file_extension": ".py",
   "mimetype": "text/x-python",
   "name": "python",
   "nbconvert_exporter": "python",
   "pygments_lexer": "ipython3",
   "version": "3.12.3"
  }
 },
 "nbformat": 4,
 "nbformat_minor": 0
}
